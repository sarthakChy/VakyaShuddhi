{
 "cells": [
  {
   "cell_type": "code",
   "execution_count": null,
   "id": "d9f7bf68",
   "metadata": {},
   "outputs": [],
   "source": [
    "import json"
   ]
  },
  {
   "cell_type": "code",
   "execution_count": 4,
   "id": "7d03023a",
   "metadata": {},
   "outputs": [],
   "source": [
    "word_counts = {}\n",
    "with open('/home/sarthak/Desktop/VakyaShuddhi/backend/data/word_counts.json','r',encoding='utf-8') as f:\n",
    "    word_counts = json.load(f)"
   ]
  },
  {
   "cell_type": "code",
   "execution_count": 6,
   "id": "9bb48662",
   "metadata": {},
   "outputs": [],
   "source": [
    "with open('hindi_dictionary.txt', 'w', encoding='utf-8') as f:\n",
    "    for word,count in word_counts.items():\n",
    "        f.write(f\"{word} {count}\\n\")"
   ]
  },
  {
   "cell_type": "code",
   "execution_count": null,
   "id": "e875c1ac",
   "metadata": {},
   "outputs": [],
   "source": [
    "from itertools import islice\n",
    "from symspellpy import SymSpell, Verbosity\n",
    "\n",
    "sym_spell = SymSpell(max_dictionary_edit_distance=2, prefix_length=7)\n",
    "sym_spell.load_dictionary('/home/sarthak/Desktop/VakyaShuddhi/backend/hindi_dictionary.txt',term_index=0,count_index=1)"
   ]
  }
 ],
 "metadata": {
  "kernelspec": {
   "display_name": ".venv",
   "language": "python",
   "name": "python3"
  },
  "language_info": {
   "codemirror_mode": {
    "name": "ipython",
    "version": 3
   },
   "file_extension": ".py",
   "mimetype": "text/x-python",
   "name": "python",
   "nbconvert_exporter": "python",
   "pygments_lexer": "ipython3",
   "version": "3.10.12"
  }
 },
 "nbformat": 4,
 "nbformat_minor": 5
}
