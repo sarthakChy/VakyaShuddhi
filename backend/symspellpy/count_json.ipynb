{
 "cells": [
  {
   "cell_type": "code",
   "execution_count": 1,
   "id": "3828c0bf",
   "metadata": {},
   "outputs": [
    {
     "name": "stderr",
     "output_type": "stream",
     "text": [
      "/home/sarthak/Desktop/VakyaShuddhi/.venv/lib/python3.10/site-packages/tqdm/auto.py:21: TqdmWarning: IProgress not found. Please update jupyter and ipywidgets. See https://ipywidgets.readthedocs.io/en/stable/user_install.html\n",
      "  from .autonotebook import tqdm as notebook_tqdm\n"
     ]
    }
   ],
   "source": [
    "from datasets import load_dataset\n",
    "\n",
    "ds = load_dataset(\"ai4bharat/samanantar\", \"hi\",streaming=True)"
   ]
  },
  {
   "cell_type": "code",
   "execution_count": 2,
   "id": "70ba35db",
   "metadata": {},
   "outputs": [],
   "source": [
    "from indicnlp.normalize.indic_normalize import DevanagariNormalizer\n",
    "from indicnlp.tokenize import indic_tokenize\n",
    "\n",
    "class hindi_pipeline():\n",
    "  def __init__(self):\n",
    "\n",
    "    self.normalizer = DevanagariNormalizer(\n",
    "        lang='hi',\n",
    "        remove_nuktas=True,\n",
    "        nasals_mode='to_anusvaara_strict',\n",
    "        do_normalize_chandras=False,\n",
    "        do_normalize_vowel_ending=False\n",
    "    )\n",
    "\n",
    "    self.tokenizer = indic_tokenize\n",
    "\n",
    "    return\n",
    "\n",
    "\n",
    "  def normalize(self,text):\n",
    "    clean_text = self.normalizer.normalize(text)\n",
    "    return clean_text\n",
    "\n",
    "  def tokenize(self,text):\n",
    "    tokens = self.tokenizer.trivial_tokenize(text,'hi')\n",
    "    return tokens"
   ]
  },
  {
   "cell_type": "code",
   "execution_count": null,
   "id": "e63ce09e",
   "metadata": {},
   "outputs": [],
   "source": [
    "from collections import Counter\n",
    "import json\n",
    "\n",
    "pipe = hindi_pipeline()\n",
    "chunks = 100000\n",
    "chunk_tokens = []\n",
    "word_counter = Counter()\n",
    "\n",
    "for i, row in enumerate(ds['train'], 1): \n",
    "    clean_text = pipe.normalize(row['tgt'])\n",
    "    tokens = pipe.tokenize(clean_text)\n",
    "    chunk_tokens.extend(tokens)\n",
    "\n",
    "    if i % chunks == 0:\n",
    "        word_counter.update(chunk_tokens)\n",
    "        chunk_tokens = []\n",
    "        print(f\"Processed {i} sentences\")\n",
    "\n",
    "if chunk_tokens:\n",
    "    word_counter.update(chunk_tokens)\n",
    "\n",
    "with open('word_counts.json','w') as f:\n",
    "    json.dump(word_counter,f,ensure_ascii=False,indent=4)"
   ]
  }
 ],
 "metadata": {
  "kernelspec": {
   "display_name": ".venv",
   "language": "python",
   "name": "python3"
  },
  "language_info": {
   "codemirror_mode": {
    "name": "ipython",
    "version": 3
   },
   "file_extension": ".py",
   "mimetype": "text/x-python",
   "name": "python",
   "nbconvert_exporter": "python",
   "pygments_lexer": "ipython3",
   "version": "3.10.12"
  }
 },
 "nbformat": 4,
 "nbformat_minor": 5
}
