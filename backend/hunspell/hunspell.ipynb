{
 "cells": [
  {
   "cell_type": "code",
   "execution_count": 15,
   "id": "3368e615",
   "metadata": {},
   "outputs": [],
   "source": [
    "import hunspell\n",
    "hobj = hunspell.HunSpell('/home/sarthak/Desktop/VakyaShuddhi/backend/data/hi_IN.dic', '/home/sarthak/Desktop/VakyaShuddhi/backend/data/hi_IN.aff')"
   ]
  },
  {
   "cell_type": "code",
   "execution_count": 21,
   "id": "ae092bbe",
   "metadata": {},
   "outputs": [
    {
     "name": "stdout",
     "output_type": "stream",
     "text": [
      "False\n",
      "['खटले', 'खेल', 'खेट', 'खेला', 'खेलि', 'खेली', 'खेले', 'खेलो', 'खेलत', 'खेलन', 'खेवट', 'खे लट', 'खेल ट']\n"
     ]
    }
   ],
   "source": [
    "print(hobj.spell('खेलट'))\n",
    "print(hobj.suggest('खेलट'))"
   ]
  }
 ],
 "metadata": {
  "kernelspec": {
   "display_name": ".venv",
   "language": "python",
   "name": "python3"
  },
  "language_info": {
   "codemirror_mode": {
    "name": "ipython",
    "version": 3
   },
   "file_extension": ".py",
   "mimetype": "text/x-python",
   "name": "python",
   "nbconvert_exporter": "python",
   "pygments_lexer": "ipython3",
   "version": "3.10.12"
  }
 },
 "nbformat": 4,
 "nbformat_minor": 5
}
